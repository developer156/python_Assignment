{
 "cells": [
  {
   "cell_type": "markdown",
   "metadata": {},
   "source": [
    "\n",
    "# 1.Divisibility Check Of two numbers\n",
    "Write a python program to check whethera number                                                      \n",
    "is completely divisible by another number. accept two                                                              \n",
    "integer values form the user                                                                          "
   ]
  },
  {
   "cell_type": "markdown",
   "metadata": {},
   "source": [
    "# program Console Sample Output 1:\n",
    "Enter numerator: 4                                                      \n",
    "Enter denumerator: 2                                                       \n",
    "Number 4 is compeletely divisible by 2                                                  "
   ]
  },
  {
   "cell_type": "code",
   "execution_count": 1,
   "metadata": {},
   "outputs": [
    {
     "name": "stdout",
     "output_type": "stream",
     "text": [
      "Enter Numerator number :  4\n",
      "Enter Denumerator number :  2\n",
      "Number 4 is compeletely divisible by 2\n"
     ]
    }
   ],
   "source": [
    "num_1 = int(input(\"Enter Numerator number :  \"))\n",
    "num_2 = int(input(\"Enter Denumerator number :  \"))\n",
    "num_3 = num_1%num_2\n",
    "if num_3 == 0:\n",
    "    print (f\"Number {num_1} is compeletely divisible by {num_2}\")\n",
    "else:\n",
    "    print (f\"Number {num_1} is not compeletely divisible by {num_2}\")"
   ]
  },
  {
   "cell_type": "markdown",
   "metadata": {},
   "source": [
    "# program Console Sample Output 2:\n",
    "Enter numerator: 7                                                    \n",
    "Enter denumerator: 4                                                    \n",
    "Number 7 is compeletely divisible by 4                                                   "
   ]
  },
  {
   "cell_type": "code",
   "execution_count": 2,
   "metadata": {},
   "outputs": [
    {
     "name": "stdout",
     "output_type": "stream",
     "text": [
      "Enter Numerator number :  7\n",
      "Enter Denumerator number :  4\n",
      "Number 7 is not compeletely divisible by 4\n"
     ]
    }
   ],
   "source": [
    "num_1 = int(input(\"Enter Numerator number :  \"))\n",
    "num_2 = int(input(\"Enter Denumerator number :  \"))\n",
    "num_3 = num_1%num_2\n",
    "if num_3 == 0:\n",
    "    print (f\"Number {num_1} is compeletely divisible by {num_2}\")\n",
    "else:\n",
    "    print (f\"Number {num_1} is not compeletely divisible by {num_2}\")"
   ]
  },
  {
   "cell_type": "markdown",
   "metadata": {},
   "source": [
    "# 2. Copy String n Times\n",
    "Write a python to get a string which n (non-                                       \n",
    "negative integer) copies of a given string.                                        \n"
   ]
  },
  {
   "cell_type": "markdown",
   "metadata": {},
   "source": [
    "# program Console Output\n",
    "Enter String : EBAD                       \n",
    "How Many copies Of String You Need : 4                     \n",
    "4 copies Of EBAD are EBADEBADEBADEBAD                                                 "
   ]
  },
  {
   "cell_type": "code",
   "execution_count": 3,
   "metadata": {},
   "outputs": [
    {
     "name": "stdout",
     "output_type": "stream",
     "text": [
      "Enter NameEBAD\n",
      "How Many copies Of String You Need :  4\n",
      "EBADEBADEBADEBAD\n"
     ]
    }
   ],
   "source": [
    "name = input(\"Enter Name\")\n",
    "num = int(input(\"How Many copies Of String You Need :  \"))\n",
    "nn = name * num\n",
    "print (f\"{nn}\")"
   ]
  },
  {
   "cell_type": "markdown",
   "metadata": {},
   "source": [
    "# 3. Vowel Tester\n",
    "Write a python program to test Whether a passed letter                                                 \n",
    "is a Vowel or not"
   ]
  },
  {
   "cell_type": "markdown",
   "metadata": {},
   "source": [
    "# program Console Output :1\n",
    "Enter A character: A                                                                                            \n",
    "Letter A is Vowel"
   ]
  },
  {
   "cell_type": "markdown",
   "metadata": {},
   "source": [
    "# program Console Output :2\n",
    "Enter E character: E                             \n",
    "Letter E is Vowel"
   ]
  },
  {
   "cell_type": "markdown",
   "metadata": {},
   "source": [
    "# program Console Output :3\n",
    "Enter N character: N                         \n",
    "Letter N is not a Vowel"
   ]
  },
  {
   "cell_type": "code",
   "execution_count": 5,
   "metadata": {},
   "outputs": [
    {
     "name": "stdout",
     "output_type": "stream",
     "text": [
      "Enter Any Character:   a\n",
      "Letter is Vowel\n"
     ]
    }
   ],
   "source": [
    "Alpha_1 = [\"a\",\"e\",\"i\",\"o\",\"u\"]\n",
    "Alpha_2 = input (\"Enter Any Character:   \")\n",
    "alpha_3 = Alpha_2.lower()\n",
    "if alpha_3 == Alpha_2:\n",
    "    print (\"Letter is Vowel\")\n",
    "else:\n",
    "    print (\"Letter is not a Vowel\")\n",
    "    "
   ]
  },
  {
   "cell_type": "code",
   "execution_count": 6,
   "metadata": {},
   "outputs": [
    {
     "name": "stdout",
     "output_type": "stream",
     "text": [
      "Enter Any Character:   e\n",
      "Letter is Vowel\n"
     ]
    }
   ],
   "source": [
    "Alpha_1 = [\"a\",\"e\",\"i\",\"o\",\"u\"]\n",
    "Alpha_2 = input (\"Enter Any Character:   \")\n",
    "alpha_3 = Alpha_2.lower()\n",
    "if alpha_3 == Alpha_2:\n",
    "    print (\"Letter is Vowel\")\n",
    "else:\n",
    "    print (\"Letter is not a Vowel\")"
   ]
  },
  {
   "cell_type": "code",
   "execution_count": 9,
   "metadata": {},
   "outputs": [
    {
     "name": "stdout",
     "output_type": "stream",
     "text": [
      "Enter Any Character:   N\n",
      "Letter is not a Vowel\n"
     ]
    }
   ],
   "source": [
    "Alpha_1 = [\"a\",\"e\",\"i\",\"o\",\"u\"]\n",
    "Alpha_2 = input (\"Enter Any Character:   \")\n",
    "alpha_3 = Alpha_2.lower()\n",
    "if alpha_3 == Alpha_2:\n",
    "    print (\"Letter is Vowel\")\n",
    "else:\n",
    "    print (\"Letter is not a Vowel\")"
   ]
  },
  {
   "cell_type": "markdown",
   "metadata": {},
   "source": [
    "# 4. Odd No.s\n",
    "Use the Third argument of the range() function to make a                                                             \n",
    "list of the odd numbers from 1 to 20 . use a for loop to                                                     \n",
    "print each numbedr"
   ]
  },
  {
   "cell_type": "code",
   "execution_count": 10,
   "metadata": {},
   "outputs": [
    {
     "name": "stdout",
     "output_type": "stream",
     "text": [
      "1\n",
      "3\n",
      "5\n",
      "7\n",
      "9\n",
      "11\n",
      "13\n",
      "15\n",
      "17\n",
      "19\n"
     ]
    }
   ],
   "source": [
    "for number in range(1,20,2):\n",
    "    print (f\"{number}\")"
   ]
  },
  {
   "cell_type": "markdown",
   "metadata": {},
   "source": [
    "# 5. Food Slicing\n",
    "Make a python program that contains your nine favourite                                                     \n",
    "dishes in a list called food . print the message,"
   ]
  },
  {
   "cell_type": "markdown",
   "metadata": {},
   "source": [
    "# The first Three items ina list are:\n",
    "Then use a slice to print tha first three items from that                             \n",
    "program's list . print the message,"
   ]
  },
  {
   "cell_type": "markdown",
   "metadata": {},
   "source": [
    "# Three items from the middle of the list are:\n",
    "Use a slica to print three items from the middle of the                                \n",
    "list . print the message,"
   ]
  },
  {
   "cell_type": "markdown",
   "metadata": {},
   "source": [
    "# The Three items in the list are:\n",
    "Use a slica to print the last three items in the list."
   ]
  },
  {
   "cell_type": "code",
   "execution_count": 11,
   "metadata": {},
   "outputs": [
    {
     "name": "stdout",
     "output_type": "stream",
     "text": [
      "The first Three items in a list are: ['Burger', 'Briyani', 'Broest']\n",
      "Three items from the middle of the list are: ['Hameel', 'Paya', ' Pizza']\n",
      "The Three items in the list are: ['Nihari', 'Roll', 'Karahi']\n"
     ]
    }
   ],
   "source": [
    "foods = [\"Burger\",\"Briyani\",\"Broest\",\"Hameel\",\"Paya\",\" Pizza\",\"Nihari\",\"Roll\",\"Karahi\"]\n",
    "print (\"The first Three items in a list are:\" , foods [:3])\n",
    "print (\"Three items from the middle of the list are:\" , foods [3:6])\n",
    "print (\"The Three items in the list are:\" , foods [6:10])"
   ]
  }
 ],
 "metadata": {
  "kernelspec": {
   "display_name": "Python 3",
   "language": "python",
   "name": "python3"
  },
  "language_info": {
   "codemirror_mode": {
    "name": "ipython",
    "version": 3
   },
   "file_extension": ".py",
   "mimetype": "text/x-python",
   "name": "python",
   "nbconvert_exporter": "python",
   "pygments_lexer": "ipython3",
   "version": "3.7.4"
  }
 },
 "nbformat": 4,
 "nbformat_minor": 2
}
